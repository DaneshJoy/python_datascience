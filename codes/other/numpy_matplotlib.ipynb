{
 "cells": [
  {
   "cell_type": "code",
   "execution_count": 1,
   "metadata": {
    "id": "-dX-7kXlgXNP"
   },
   "outputs": [],
   "source": [
    "import numpy as np\n",
    "import matplotlib.pyplot as plt"
   ]
  },
  {
   "cell_type": "markdown",
   "metadata": {
    "id": "ueu1nurQmTrJ"
   },
   "source": [
    "## Numpy ndarray"
   ]
  },
  {
   "cell_type": "code",
   "execution_count": 2,
   "metadata": {
    "colab": {
     "base_uri": "https://localhost:8080/"
    },
    "id": "D8iXJ_LnhTHW",
    "outputId": "16749a8f-ceac-460f-874a-d7af59b34ae1"
   },
   "outputs": [
    {
     "name": "stdout",
     "output_type": "stream",
     "text": [
      "[ 2  4  6  8 10]\n"
     ]
    }
   ],
   "source": [
    "my_arr = np.array([1, 2, 3, 4, 5])\n",
    "print(my_arr * 2)"
   ]
  },
  {
   "cell_type": "code",
   "execution_count": 3,
   "metadata": {
    "colab": {
     "base_uri": "https://localhost:8080/"
    },
    "id": "w1_rpUCdh-ls",
    "outputId": "8fc781b8-ccd3-4be2-fb20-122f495f3906"
   },
   "outputs": [
    {
     "name": "stdout",
     "output_type": "stream",
     "text": [
      "<class 'numpy.ndarray'>\n"
     ]
    }
   ],
   "source": [
    "print(type(my_arr))"
   ]
  },
  {
   "cell_type": "markdown",
   "metadata": {
    "id": "ms0aqLWwmZjE"
   },
   "source": [
    "## Get array properties"
   ]
  },
  {
   "cell_type": "code",
   "execution_count": 4,
   "metadata": {
    "colab": {
     "base_uri": "https://localhost:8080/"
    },
    "id": "Rrns6CffiVqy",
    "outputId": "1f4a6326-9a6e-468a-8bdc-b3c0af138e5b"
   },
   "outputs": [
    {
     "name": "stdout",
     "output_type": "stream",
     "text": [
      "1\n"
     ]
    }
   ],
   "source": [
    "print(my_arr.ndim)"
   ]
  },
  {
   "cell_type": "code",
   "execution_count": 5,
   "metadata": {
    "colab": {
     "base_uri": "https://localhost:8080/"
    },
    "id": "LVamEzvXibxQ",
    "outputId": "aacad372-4bb4-480f-8ff7-242b8711b8ea"
   },
   "outputs": [
    {
     "name": "stdout",
     "output_type": "stream",
     "text": [
      "(5,)\n"
     ]
    }
   ],
   "source": [
    "print(my_arr.shape)"
   ]
  },
  {
   "cell_type": "code",
   "execution_count": 6,
   "metadata": {
    "colab": {
     "base_uri": "https://localhost:8080/"
    },
    "id": "1C3zGN4WmcEy",
    "outputId": "d05b7c0b-5d0c-425f-d80f-727125fca7d3"
   },
   "outputs": [
    {
     "name": "stdout",
     "output_type": "stream",
     "text": [
      "int64\n"
     ]
    }
   ],
   "source": [
    "print(my_arr.dtype)"
   ]
  },
  {
   "cell_type": "markdown",
   "metadata": {
    "id": "LBY85JYqmlPG"
   },
   "source": [
    "## More dimentions"
   ]
  },
  {
   "cell_type": "code",
   "execution_count": 7,
   "metadata": {
    "colab": {
     "base_uri": "https://localhost:8080/"
    },
    "id": "2mQ8cUjQi8Oh",
    "outputId": "b9cfbc71-0052-4ea0-ada2-f1ed6c4aa7bb"
   },
   "outputs": [
    {
     "name": "stdout",
     "output_type": "stream",
     "text": [
      "(1, 5)\n"
     ]
    }
   ],
   "source": [
    "my_arr2 = np.array([[1, 2, 3, 4, 5]])\n",
    "print(my_arr2.shape)"
   ]
  },
  {
   "cell_type": "code",
   "execution_count": 8,
   "metadata": {
    "colab": {
     "base_uri": "https://localhost:8080/"
    },
    "id": "17yWIOxQjbx1",
    "outputId": "d5330bea-f23c-4287-923c-ac4200aaf025"
   },
   "outputs": [
    {
     "name": "stdout",
     "output_type": "stream",
     "text": [
      "(2, 3)\n"
     ]
    }
   ],
   "source": [
    "my_arr3 = np.array([[1, 2, 3],\n",
    "                    [4, 5, 6]])\n",
    "print(my_arr3.shape)"
   ]
  },
  {
   "cell_type": "code",
   "execution_count": 9,
   "metadata": {
    "colab": {
     "base_uri": "https://localhost:8080/"
    },
    "id": "D9wDRpnaj4Q4",
    "outputId": "05bf2467-d629-44ad-e905-d4ea410499ce"
   },
   "outputs": [
    {
     "name": "stdout",
     "output_type": "stream",
     "text": [
      "[[1 2 3]\n",
      " [4 5 6]]\n"
     ]
    }
   ],
   "source": [
    "print(my_arr3)"
   ]
  },
  {
   "cell_type": "markdown",
   "metadata": {
    "id": "25RzbPUEmoG0"
   },
   "source": [
    "## Vector operations"
   ]
  },
  {
   "cell_type": "code",
   "execution_count": 10,
   "metadata": {
    "id": "HFijW_AAkKMO"
   },
   "outputs": [],
   "source": [
    "arr1 = np.array([1, 2, 3])\n",
    "arr2 = np.array([2, 2, 2])"
   ]
  },
  {
   "cell_type": "code",
   "execution_count": 21,
   "metadata": {
    "colab": {
     "base_uri": "https://localhost:8080/"
    },
    "id": "cxkwOg7CkrlR",
    "outputId": "edc8dfe0-c404-4158-d91e-7e950fe9c73e"
   },
   "outputs": [
    {
     "name": "stdout",
     "output_type": "stream",
     "text": [
      "Item product: [2 4 6]\n",
      "Dot product: 12\n",
      "Cross product: [-2  4 -2]\n"
     ]
    }
   ],
   "source": [
    "item_product = np.multiply(arr1, arr2)\n",
    "# item_product = arr1 * arr2\n",
    "dot_product = np.dot(arr1, arr2)\n",
    "# dot_product = arr1 @ arr2\n",
    "cross_product = np.cross(arr1, arr2)\n",
    "print(\"Item product:\", item_product)\n",
    "print(\"Dot product:\", dot_product)\n",
    "print(\"Cross product:\", cross_product)"
   ]
  },
  {
   "cell_type": "markdown",
   "metadata": {
    "id": "kgytMGwOprC5"
   },
   "source": [
    "## Create zero/one ndarrays"
   ]
  },
  {
   "cell_type": "code",
   "execution_count": 26,
   "metadata": {
    "colab": {
     "base_uri": "https://localhost:8080/"
    },
    "id": "qtyrUBPUpqpl",
    "outputId": "9f927ca9-23c7-4be3-9784-0ec2d2267683"
   },
   "outputs": [
    {
     "name": "stdout",
     "output_type": "stream",
     "text": [
      "[[0. 0. 0.]\n",
      " [0. 0. 0.]]\n"
     ]
    }
   ],
   "source": [
    "zeros = np.zeros([2, 3])\n",
    "print(zeros)"
   ]
  },
  {
   "cell_type": "code",
   "execution_count": 25,
   "metadata": {
    "colab": {
     "base_uri": "https://localhost:8080/"
    },
    "id": "pijWXwkRqLrM",
    "outputId": "5e2048ac-4c43-47c5-fb14-62536d683bd9"
   },
   "outputs": [
    {
     "name": "stdout",
     "output_type": "stream",
     "text": [
      "[[[1. 1.]\n",
      "  [1. 1.]\n",
      "  [1. 1.]]\n",
      "\n",
      " [[1. 1.]\n",
      "  [1. 1.]\n",
      "  [1. 1.]]]\n"
     ]
    }
   ],
   "source": [
    "ones = np.ones([2, 3, 2])\n",
    "print(ones)"
   ]
  },
  {
   "cell_type": "code",
   "execution_count": null,
   "metadata": {
    "colab": {
     "base_uri": "https://localhost:8080/"
    },
    "id": "NLrnrAGVqVP-",
    "outputId": "37f2105a-2201-43f8-d3d3-5dc22db84062"
   },
   "outputs": [
    {
     "data": {
      "text/plain": [
       "(2, 3, 2)"
      ]
     },
     "execution_count": 14,
     "metadata": {},
     "output_type": "execute_result"
    }
   ],
   "source": [
    "print(ones.shape)"
   ]
  },
  {
   "cell_type": "code",
   "execution_count": 24,
   "metadata": {
    "colab": {
     "base_uri": "https://localhost:8080/"
    },
    "id": "PoQRYQWKqsuk",
    "outputId": "436d9901-cdc0-4296-fb3e-893e0239d556"
   },
   "outputs": [
    {
     "name": "stdout",
     "output_type": "stream",
     "text": [
      "[[-0.05626946  0.47646617 -1.41332861]\n",
      " [-1.17077562 -1.73055423 -1.83984842]]\n"
     ]
    }
   ],
   "source": [
    "x = np.random.normal(size=(2, 3))\n",
    "print(x)"
   ]
  },
  {
   "cell_type": "code",
   "execution_count": null,
   "metadata": {
    "colab": {
     "base_uri": "https://localhost:8080/"
    },
    "id": "_5WK1Q8BrBMm",
    "outputId": "f21505a8-8ded-43e3-9203-f75b5d3ce3de"
   },
   "outputs": [
    {
     "data": {
      "text/plain": [
       "array([[-0.83,  0.39, -0.04],\n",
       "       [ 1.69,  0.71,  0.38]])"
      ]
     },
     "execution_count": 16,
     "metadata": {},
     "output_type": "execute_result"
    }
   ],
   "source": [
    "print(x.round(2))"
   ]
  },
  {
   "cell_type": "markdown",
   "metadata": {
    "id": "x7wzT0ScmqPU"
   },
   "source": [
    "## Matrice operations"
   ]
  },
  {
   "cell_type": "code",
   "execution_count": 38,
   "metadata": {
    "colab": {
     "base_uri": "https://localhost:8080/"
    },
    "id": "pLbfACgClZ3v",
    "outputId": "8acabd7f-9910-457b-9dc5-80cfec15608f"
   },
   "outputs": [
    {
     "name": "stdout",
     "output_type": "stream",
     "text": [
      "Item product:\n",
      " [[2 4 6]\n",
      " [2 4 6]]\n",
      "Matrix multiplication:\n",
      " [[12 12]\n",
      " [12 12]]\n"
     ]
    }
   ],
   "source": [
    "mat1 = np.array([[1, 2, 3],\n",
    "                 [1, 2, 3]])\n",
    "\n",
    "mat2 = np.array([[2, 2, 2],\n",
    "                 [2, 2, 2]])\n",
    "\n",
    "item_product = np.multiply(mat1, mat2)\n",
    "# item_product = mat1 * mat2\n",
    "mat_multiplication = np.matmul(mat1, np.transpose(mat2))\n",
    "# mat_multiplication = mat1 @ np.transpose(mat2)\n",
    "print(\"Item product:\\n\", item_product)\n",
    "print(\"Matrix multiplication:\\n\", mat_multiplication)"
   ]
  },
  {
   "cell_type": "markdown",
   "metadata": {
    "id": "oUAsS4TDnGWb"
   },
   "source": [
    "## Create a sinusoidal signal"
   ]
  },
  {
   "cell_type": "code",
   "execution_count": 10,
   "metadata": {
    "id": "JqcIItJFny_e"
   },
   "outputs": [],
   "source": [
    "x = np.linspace(0, 2*np.pi, 1000)"
   ]
  },
  {
   "cell_type": "code",
   "execution_count": 11,
   "metadata": {
    "colab": {
     "base_uri": "https://localhost:8080/"
    },
    "id": "r3hqv-h_n4l7",
    "outputId": "08c95b6c-c4b2-4da7-bf0e-6c823e80f2f9"
   },
   "outputs": [
    {
     "name": "stdout",
     "output_type": "stream",
     "text": [
      "(1000,)\n"
     ]
    }
   ],
   "source": [
    "print(x.shape)"
   ]
  },
  {
   "cell_type": "code",
   "execution_count": 12,
   "metadata": {
    "id": "DMdU9MGmnJZt"
   },
   "outputs": [],
   "source": [
    "y1 = np.sin(x)"
   ]
  },
  {
   "cell_type": "code",
   "execution_count": 13,
   "metadata": {
    "colab": {
     "base_uri": "https://localhost:8080/"
    },
    "id": "gD--wukUoAqA",
    "outputId": "a4b8c83c-16c8-4e27-d130-0a116ed05494"
   },
   "outputs": [
    {
     "name": "stdout",
     "output_type": "stream",
     "text": [
      "(1000,)\n"
     ]
    }
   ],
   "source": [
    "print(y1.shape)"
   ]
  },
  {
   "cell_type": "markdown",
   "metadata": {
    "id": "Ej4ldz-koTTs"
   },
   "source": [
    "## Plot the signal"
   ]
  },
  {
   "cell_type": "code",
   "execution_count": 43,
   "metadata": {
    "colab": {
     "base_uri": "https://localhost:8080/",
     "height": 214
    },
    "id": "m5gBDixzoCJB",
    "outputId": "cafb0714-1cfd-4d7c-b74d-7c79d1d760e5"
   },
   "outputs": [
    {
     "data": {
      "image/png": "[encoded data removed]",
      "text/plain": [
       "<Figure size 300x200 with 1 Axes>"
      ]
     },
     "metadata": {},
     "output_type": "display_data"
    }
   ],
   "source": [
    "plt.figure(figsize=(3, 2))\n",
    "plt.plot(y1)\n",
    "plt.show()"
   ]
  },
  {
   "cell_type": "code",
   "execution_count": 44,
   "metadata": {
    "colab": {
     "base_uri": "https://localhost:8080/",
     "height": 214
    },
    "id": "Vz3c9_k9okhS",
    "outputId": "05750ed3-4bdc-4858-889d-d93350691bc3"
   },
   "outputs": [
    {
     "data": {
      "image/png": "[encoded data removed]",
      "text/plain": [
       "<Figure size 300x200 with 1 Axes>"
      ]
     },
     "metadata": {},
     "output_type": "display_data"
    }
   ],
   "source": [
    "plt.figure(figsize=(3, 2))\n",
    "plt.plot(x, y1)\n",
    "plt.show()"
   ]
  },
  {
   "cell_type": "code",
   "execution_count": 15,
   "metadata": {
    "colab": {
     "base_uri": "https://localhost:8080/",
     "height": 214
    },
    "id": "HhPxkWMSow89",
    "outputId": "6f30ea8b-3085-41fb-de36-a218117b2be7"
   },
   "outputs": [
    {
     "data": {
      "image/png": "[encoded data removed]",
      "text/plain": [
       "<Figure size 300x200 with 1 Axes>"
      ]
     },
     "metadata": {},
     "output_type": "display_data"
    }
   ],
   "source": [
    "y2 = -np.cos(x) + 1\n",
    "plt.figure(figsize=(3, 2))\n",
    "plt.plot(x, y2)\n",
    "plt.show()"
   ]
  },
  {
   "cell_type": "markdown",
   "metadata": {
    "id": "FEfSoE0Rtstp"
   },
   "source": [
    "## Plot multiple signals"
   ]
  },
  {
   "cell_type": "markdown",
   "metadata": {
    "id": "VNG1Gk9LuNT1"
   },
   "source": [
    "colors: r, g, b, c, m, y, k\n",
    "\n",
    "styles: - | -- | -. | : | "
   ]
  },
  {
   "cell_type": "code",
   "execution_count": 16,
   "metadata": {
    "colab": {
     "base_uri": "https://localhost:8080/",
     "height": 333
    },
    "id": "0h244s9OpDLT",
    "outputId": "667ff82f-6f8d-4f04-ae99-6d8920aa149a"
   },
   "outputs": [
    {
     "data": {
      "image/png": "[encoded data removed]",
      "text/plain": [
       "<Figure size 500x300 with 1 Axes>"
      ]
     },
     "metadata": {},
     "output_type": "display_data"
    }
   ],
   "source": [
    "plt.figure(figsize=(5, 3))\n",
    "plt.plot(x, y1, 'm-.', label='sin(x)')\n",
    "plt.plot(x, y2, 'g:', label='-cos(x)+1')\n",
    "plt.title('My signals')\n",
    "plt.xlabel('time')\n",
    "plt.ylabel('amplitude')\n",
    "plt.legend()\n",
    "\n",
    "# Save figure\n",
    "plt.savefig('waves.png', transparent=True, facecolor =\"b\", edgecolor ='m')\n",
    "plt.savefig('waves.pdf', facecolor =\"b\", edgecolor ='m')\n",
    "\n",
    "plt.show()"
   ]
  },
  {
   "cell_type": "code",
   "execution_count": null,
   "metadata": {},
   "outputs": [],
   "source": []
  }
 ],
 "metadata": {
  "colab": {
   "provenance": []
  },
  "kernelspec": {
   "display_name": "Python 3 (ipykernel)",
   "language": "python",
   "name": "python3"
  },
  "language_info": {
   "codemirror_mode": {
    "name": "ipython",
    "version": 3
   },
   "file_extension": ".py",
   "mimetype": "text/x-python",
   "name": "python",
   "nbconvert_exporter": "python",
   "pygments_lexer": "ipython3",
   "version": "3.12.9"
  }
 },
 "nbformat": 4,
 "nbformat_minor": 4
}
