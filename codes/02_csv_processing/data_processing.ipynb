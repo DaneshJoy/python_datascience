{
 "cells": [
  {
   "attachments": {},
   "cell_type": "markdown",
   "id": "ef98c8c4-1660-47d9-8909-7c6734819512",
   "metadata": {},
   "source": [
    "# CSV Processing Project"
   ]
  },
  {
   "cell_type": "code",
   "execution_count": 19,
   "id": "3b642f98-57e0-4d49-a37a-a8328b0952d7",
   "metadata": {},
   "outputs": [],
   "source": [
    "import pandas as pd"
   ]
  },
  {
   "attachments": {},
   "cell_type": "markdown",
   "id": "f13113f0-6074-4006-b9a8-8f2ac2ef3bd4",
   "metadata": {},
   "source": [
    "## Part 1 - Load Data"
   ]
  },
  {
   "cell_type": "code",
   "execution_count": 20,
   "id": "288ad1f7-2d1e-441e-b399-a8b1c9116096",
   "metadata": {},
   "outputs": [],
   "source": [
    "df = pd.read_csv(r'hw_200.csv')\n",
    "# TODO: perform error handling"
   ]
  },
  {
   "cell_type": "code",
   "execution_count": 21,
   "id": "e193bb81-d057-4943-b564-307aa565e0e9",
   "metadata": {},
   "outputs": [],
   "source": [
    "heights = df[\"Height(Inches)\"]\n",
    "weights = df[\"Weight(Pounds)\"]"
   ]
  },
  {
   "attachments": {},
   "cell_type": "markdown",
   "id": "72559905-98ab-49fd-b78f-bc732dbc0bba",
   "metadata": {},
   "source": [
    "## Part 2 - Process Data"
   ]
  },
  {
   "cell_type": "code",
   "execution_count": 22,
   "id": "b65a6916-2c92-4f49-ab56-96bec2bacd0e",
   "metadata": {},
   "outputs": [],
   "source": [
    "# Convert from Imperial units to Metric units\n",
    "heights_metric = heights*2.54\n",
    "weights_metric = weights/2.205"
   ]
  },
  {
   "cell_type": "code",
   "execution_count": 23,
   "id": "a65d7969-c406-4be3-8127-cf70221fc0bf",
   "metadata": {},
   "outputs": [],
   "source": [
    "def calculate_bmi(h, w):\n",
    "    h /= 100  # h = h/100\n",
    "\n",
    "    # Calculate BMI\n",
    "    bmi = w / h**2\n",
    "    bmi = round(bmi, 1)\n",
    "    return bmi"
   ]
  },
  {
   "cell_type": "code",
   "execution_count": 24,
   "id": "6c6691b3-7721-4499-b334-7a6d6ffc074f",
   "metadata": {},
   "outputs": [],
   "source": [
    "calculated_bmis = []\n",
    "for i in range(len(heights_metric)):\n",
    "    bmi = calculate_bmi(heights_metric[i], weights_metric[i])\n",
    "    calculated_bmis.append(bmi)"
   ]
  },
  {
   "attachments": {},
   "cell_type": "markdown",
   "id": "70f48f3b-b3f8-4138-aa3e-298aea6d5e4c",
   "metadata": {},
   "source": [
    "## Part 3 - Save Reuslts"
   ]
  },
  {
   "cell_type": "code",
   "execution_count": 25,
   "id": "135129c0-cf8f-4bfa-b491-8cc6fbf9cb9e",
   "metadata": {},
   "outputs": [
    {
     "data": {
      "text/html": [
       "<div>\n",
       "<style scoped>\n",
       "    .dataframe tbody tr th:only-of-type {\n",
       "        vertical-align: middle;\n",
       "    }\n",
       "\n",
       "    .dataframe tbody tr th {\n",
       "        vertical-align: top;\n",
       "    }\n",
       "\n",
       "    .dataframe thead th {\n",
       "        text-align: right;\n",
       "    }\n",
       "</style>\n",
       "<table border=\"1\" class=\"dataframe\">\n",
       "  <thead>\n",
       "    <tr style=\"text-align: right;\">\n",
       "      <th></th>\n",
       "      <th>Height</th>\n",
       "      <th>Weight</th>\n",
       "      <th>BMI</th>\n",
       "    </tr>\n",
       "  </thead>\n",
       "  <tbody>\n",
       "    <tr>\n",
       "      <th>count</th>\n",
       "      <td>200.000000</td>\n",
       "      <td>200.000000</td>\n",
       "      <td>200.000000</td>\n",
       "    </tr>\n",
       "    <tr>\n",
       "      <th>mean</th>\n",
       "      <td>172.594500</td>\n",
       "      <td>57.699000</td>\n",
       "      <td>19.358500</td>\n",
       "    </tr>\n",
       "    <tr>\n",
       "      <th>std</th>\n",
       "      <td>4.926354</td>\n",
       "      <td>5.428929</td>\n",
       "      <td>1.520985</td>\n",
       "    </tr>\n",
       "    <tr>\n",
       "      <th>min</th>\n",
       "      <td>161.100000</td>\n",
       "      <td>44.400000</td>\n",
       "      <td>15.000000</td>\n",
       "    </tr>\n",
       "    <tr>\n",
       "      <th>25%</th>\n",
       "      <td>168.975000</td>\n",
       "      <td>54.400000</td>\n",
       "      <td>18.575000</td>\n",
       "    </tr>\n",
       "    <tr>\n",
       "      <th>50%</th>\n",
       "      <td>172.550000</td>\n",
       "      <td>58.000000</td>\n",
       "      <td>19.250000</td>\n",
       "    </tr>\n",
       "    <tr>\n",
       "      <th>75%</th>\n",
       "      <td>175.800000</td>\n",
       "      <td>61.725000</td>\n",
       "      <td>20.300000</td>\n",
       "    </tr>\n",
       "    <tr>\n",
       "      <th>max</th>\n",
       "      <td>187.700000</td>\n",
       "      <td>72.100000</td>\n",
       "      <td>22.900000</td>\n",
       "    </tr>\n",
       "  </tbody>\n",
       "</table>\n",
       "</div>"
      ],
      "text/plain": [
       "           Height      Weight         BMI\n",
       "count  200.000000  200.000000  200.000000\n",
       "mean   172.594500   57.699000   19.358500\n",
       "std      4.926354    5.428929    1.520985\n",
       "min    161.100000   44.400000   15.000000\n",
       "25%    168.975000   54.400000   18.575000\n",
       "50%    172.550000   58.000000   19.250000\n",
       "75%    175.800000   61.725000   20.300000\n",
       "max    187.700000   72.100000   22.900000"
      ]
     },
     "execution_count": 25,
     "metadata": {},
     "output_type": "execute_result"
    }
   ],
   "source": [
    "heights_metric = [round(i, 1) for i in heights_metric]\n",
    "weights_metric = [round(i, 1) for i in weights_metric]\n",
    "\n",
    "# 1- Creade DataFrame\n",
    "result_dict = {\"Height\": heights_metric,\n",
    "               \"Weight\": weights_metric,\n",
    "               \"BMI\": calculated_bmis}\n",
    "\n",
    "df_out = pd.DataFrame(result_dict)\n",
    "\n",
    "df_out.describe()"
   ]
  },
  {
   "cell_type": "code",
   "execution_count": 26,
   "id": "5e579b7a",
   "metadata": {},
   "outputs": [
    {
     "name": "stdout",
     "output_type": "stream",
     "text": [
      "\u001b[32m BMI max: \u001b[36m 22.9 \u001b[0m\n",
      "\u001b[32m BMI min: \u001b[36m 15.0 \u001b[0m\n",
      "\u001b[32m BMI average: \u001b[36m 19.36 \u001b[0m\n"
     ]
    }
   ],
   "source": [
    "# Report for Pandas Series\n",
    "bmis = df_out['BMI']\n",
    "print(f'\\033[32m BMI max: \\033[36m {bmis.max()} \\033[0m')\n",
    "print(f'\\033[32m BMI min: \\033[36m {bmis.min()} \\033[0m')\n",
    "print(f'\\033[32m BMI average: \\033[36m {bmis.mean():0.2f} \\033[0m')"
   ]
  },
  {
   "cell_type": "code",
   "execution_count": 27,
   "id": "44a85653-8241-40d5-b2bb-adcd46b155e7",
   "metadata": {},
   "outputs": [],
   "source": [
    "# 2- Save to file\n",
    "import os\n",
    "if os.path.exists('results') == False:\n",
    "    os.mkdir('results')\n",
    "\n",
    "df_out.to_csv('results/bmi_table.csv')\n",
    "df_out.to_excel('results/bmi_table.xlsx')\n",
    "df.to_json(\"results/bmi_table.json\", indent=4)\n",
    "df_out.to_html('results/bmi_table.html')"
   ]
  }
 ],
 "metadata": {
  "kernelspec": {
   "display_name": "Python 3 (ipykernel)",
   "language": "python",
   "name": "python3"
  },
  "language_info": {
   "codemirror_mode": {
    "name": "ipython",
    "version": 3
   },
   "file_extension": ".py",
   "mimetype": "text/x-python",
   "name": "python",
   "nbconvert_exporter": "python",
   "pygments_lexer": "ipython3",
   "version": "3.9.13"
  }
 },
 "nbformat": 4,
 "nbformat_minor": 5
}
