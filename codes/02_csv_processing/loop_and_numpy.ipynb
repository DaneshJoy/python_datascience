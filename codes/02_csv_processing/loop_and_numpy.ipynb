{
 "cells": [
  {
   "cell_type": "code",
   "execution_count": 3,
   "id": "cbbeb1d4-209d-4437-9ea7-ef8d32a8c879",
   "metadata": {},
   "outputs": [],
   "source": [
    "my_list = [1, 2, 3]"
   ]
  },
  {
   "cell_type": "markdown",
   "id": "f09d4e2b-1c73-4748-a023-0d8cb8fc181a",
   "metadata": {},
   "source": [
    "## Using \"for\" Loop"
   ]
  },
  {
   "cell_type": "markdown",
   "id": "b2aa8350-3828-4dd7-b2b0-f7d5595bec6d",
   "metadata": {},
   "source": [
    "### Loop on iterable items"
   ]
  },
  {
   "cell_type": "code",
   "execution_count": null,
   "id": "f44e3a6a",
   "metadata": {},
   "outputs": [],
   "source": [
    "for i in my_list:\n",
    "    print(i)"
   ]
  },
  {
   "cell_type": "code",
   "execution_count": 7,
   "id": "86671283-7347-4414-a3fe-73d4b3bdc3b1",
   "metadata": {},
   "outputs": [
    {
     "name": "stdout",
     "output_type": "stream",
     "text": [
      "[2, 4, 6]\n"
     ]
    }
   ],
   "source": [
    "list_2 = []\n",
    "\n",
    "for i in my_list:\n",
    "    list_2.append(i*2)\n",
    "\n",
    "print(list_2)"
   ]
  },
  {
   "cell_type": "markdown",
   "id": "dac6a0dc-ad2f-4a0f-b6c4-53a697a1d32f",
   "metadata": {},
   "source": [
    "### Loop on generator items"
   ]
  },
  {
   "cell_type": "code",
   "execution_count": 8,
   "id": "047011da-d8f1-4668-9187-db68ceb57ff3",
   "metadata": {},
   "outputs": [
    {
     "data": {
      "text/plain": [
       "range(0, 10)"
      ]
     },
     "execution_count": 8,
     "metadata": {},
     "output_type": "execute_result"
    }
   ],
   "source": [
    "range(0, 10)"
   ]
  },
  {
   "cell_type": "code",
   "execution_count": 14,
   "id": "5bc40704-c14f-4afe-863d-bf37fae0ae86",
   "metadata": {},
   "outputs": [
    {
     "data": {
      "text/plain": [
       "[0, 1, 2, 3, 4, 5, 6, 7, 8, 9]"
      ]
     },
     "execution_count": 14,
     "metadata": {},
     "output_type": "execute_result"
    }
   ],
   "source": [
    "list(range(10))"
   ]
  },
  {
   "cell_type": "code",
   "execution_count": 17,
   "id": "4a680b01-f9d0-4b0e-ac60-1a3f1349d4a6",
   "metadata": {},
   "outputs": [
    {
     "name": "stdout",
     "output_type": "stream",
     "text": [
      "1: salam\n",
      "2: salam\n",
      "3: salam\n",
      "4: salam\n",
      "5: salam\n",
      "6: salam\n",
      "7: salam\n",
      "8: salam\n",
      "9: salam\n",
      "10: salam\n"
     ]
    }
   ],
   "source": [
    "for i in range(10):\n",
    "    print(f'{i+1}: salam')"
   ]
  },
  {
   "cell_type": "markdown",
   "id": "a67d0252-adf0-45b9-82a4-7772893105cf",
   "metadata": {},
   "source": [
    "## Working with Numpy"
   ]
  },
  {
   "cell_type": "code",
   "execution_count": 18,
   "id": "52a1a546-bf37-44ea-b547-10c4239defe6",
   "metadata": {},
   "outputs": [],
   "source": [
    "import numpy as np"
   ]
  },
  {
   "cell_type": "code",
   "execution_count": 19,
   "id": "81b4f774-6ea1-4067-8d42-6983a77cfd2e",
   "metadata": {},
   "outputs": [
    {
     "name": "stdout",
     "output_type": "stream",
     "text": [
      "[1 2 3]\n"
     ]
    }
   ],
   "source": [
    "my_list_np = np.array([1, 2, 3])\n",
    "print(my_list_np)"
   ]
  },
  {
   "cell_type": "code",
   "execution_count": 20,
   "id": "d20d00b2-eb78-4f78-82b2-63212f41b49e",
   "metadata": {},
   "outputs": [
    {
     "data": {
      "text/plain": [
       "numpy.ndarray"
      ]
     },
     "execution_count": 20,
     "metadata": {},
     "output_type": "execute_result"
    }
   ],
   "source": [
    "type(my_list_np)"
   ]
  },
  {
   "cell_type": "code",
   "execution_count": 22,
   "id": "bd7b2d02-7fc4-42bc-8b47-9d5ae855cc4b",
   "metadata": {},
   "outputs": [
    {
     "data": {
      "text/plain": [
       "array([2.54, 5.08, 7.62])"
      ]
     },
     "execution_count": 22,
     "metadata": {},
     "output_type": "execute_result"
    }
   ],
   "source": [
    "my_list_np * 2.54"
   ]
  },
  {
   "cell_type": "code",
   "execution_count": null,
   "id": "6408b225-f660-4170-bc8e-95a403bbed5e",
   "metadata": {},
   "outputs": [],
   "source": []
  }
 ],
 "metadata": {
  "kernelspec": {
   "display_name": "Python 3 (ipykernel)",
   "language": "python",
   "name": "python3"
  },
  "language_info": {
   "codemirror_mode": {
    "name": "ipython",
    "version": 3
   },
   "file_extension": ".py",
   "mimetype": "text/x-python",
   "name": "python",
   "nbconvert_exporter": "python",
   "pygments_lexer": "ipython3",
   "version": "3.11.5"
  }
 },
 "nbformat": 4,
 "nbformat_minor": 5
}
